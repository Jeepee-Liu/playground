{
 "cells": [
  {
   "cell_type": "code",
   "execution_count": null,
   "metadata": {},
   "outputs": [],
   "source": [
    "function(str::String) ::Nullable{Number}"
   ]
  },
  {
   "cell_type": "code",
   "execution_count": 14,
   "metadata": {},
   "outputs": [],
   "source": [
    "f = open(\"test_file.txt\", \"w+\")\n",
    "for i in 1:20\n",
    "    write(f, \"This is line $(i)\\n\")\n",
    "end\n",
    "flush(f)\n",
    "close(f)"
   ]
  },
  {
   "cell_type": "code",
   "execution_count": 12,
   "metadata": {},
   "outputs": [
    {
     "ename": "LoadError",
     "evalue": "\u001b[91mMethodError: no method matching parse(::Type{Tuple{Int64}}, ::String)\u001b[0m\nClosest candidates are:\n  parse(\u001b[91m::Type{IPv4}\u001b[39m, ::AbstractString) at socket.jl:167\n  parse(\u001b[91m::Type{IPv6}\u001b[39m, ::AbstractString) at socket.jl:218\n  parse(\u001b[91m::Type{DateTime}\u001b[39m, ::AbstractString, \u001b[91m::DateFormat{Symbol(\"yyyy-mm-dd\\\\THH:MM:SS.s\"),Tuple{Base.Dates.DatePart{'y'},Base.Dates.Delim{Char,1},Base.Dates.DatePart{'m'},Base.Dates.Delim{Char,1},Base.Dates.DatePart{'d'},Base.Dates.Delim{Char,1},Base.Dates.DatePart{'H'},Base.Dates.Delim{Char,1},Base.Dates.DatePart{'M'},Base.Dates.Delim{Char,1},Base.Dates.DatePart{'S'},Base.Dates.Delim{Char,1},Base.Dates.DatePart{'s'}}}\u001b[39m) at dates/parse.jl:202\n  ...\u001b[39m",
     "output_type": "error",
     "traceback": [
      "\u001b[91mMethodError: no method matching parse(::Type{Tuple{Int64}}, ::String)\u001b[0m\nClosest candidates are:\n  parse(\u001b[91m::Type{IPv4}\u001b[39m, ::AbstractString) at socket.jl:167\n  parse(\u001b[91m::Type{IPv6}\u001b[39m, ::AbstractString) at socket.jl:218\n  parse(\u001b[91m::Type{DateTime}\u001b[39m, ::AbstractString, \u001b[91m::DateFormat{Symbol(\"yyyy-mm-dd\\\\THH:MM:SS.s\"),Tuple{Base.Dates.DatePart{'y'},Base.Dates.Delim{Char,1},Base.Dates.DatePart{'m'},Base.Dates.Delim{Char,1},Base.Dates.DatePart{'d'},Base.Dates.Delim{Char,1},Base.Dates.DatePart{'H'},Base.Dates.Delim{Char,1},Base.Dates.DatePart{'M'},Base.Dates.Delim{Char,1},Base.Dates.DatePart{'S'},Base.Dates.Delim{Char,1},Base.Dates.DatePart{'s'}}}\u001b[39m) at dates/parse.jl:202\n  ...\u001b[39m",
      "",
      "Stacktrace:",
      " [1] \u001b[1minclude_string\u001b[22m\u001b[22m\u001b[1m(\u001b[22m\u001b[22m::String, ::String\u001b[1m)\u001b[22m\u001b[22m at \u001b[1m./loading.jl:522\u001b[22m\u001b[22m"
     ]
    }
   ],
   "source": [
    "parse(Tuple{Int64},\"100 200 300\")"
   ]
  }
 ],
 "metadata": {
  "kernelspec": {
   "display_name": "Julia 0.6.1",
   "language": "julia",
   "name": "julia-0.6"
  },
  "language_info": {
   "file_extension": ".jl",
   "mimetype": "application/julia",
   "name": "julia",
   "version": "0.6.1"
  }
 },
 "nbformat": 4,
 "nbformat_minor": 2
}
