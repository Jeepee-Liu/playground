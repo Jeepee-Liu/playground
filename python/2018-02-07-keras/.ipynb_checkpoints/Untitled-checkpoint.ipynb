{
 "cells": [
  {
   "cell_type": "markdown",
   "metadata": {},
   "source": [
    "# Neural net based on Keras\n",
    "(1 hidden layer) "
   ]
  },
  {
   "cell_type": "code",
   "execution_count": 1,
   "metadata": {},
   "outputs": [
    {
     "name": "stderr",
     "output_type": "stream",
     "text": [
      "Using TensorFlow backend.\n"
     ]
    }
   ],
   "source": [
    "from keras.datasets import mnist\n",
    "(train_images, train_labels), (test_images, test_labels) = mnist.load_data()"
   ]
  },
  {
   "cell_type": "code",
   "execution_count": 2,
   "metadata": {},
   "outputs": [],
   "source": [
    "from keras import models\n",
    "from keras import layers\n",
    "\n",
    "network = models.Sequential()\n",
    "network.add(layers.Dense(512, activation='relu', input_shape=(28*28, )))\n",
    "network.add(layers.Dense(10, activation='softmax'))\n",
    "\n",
    "network.compile(optimizer='rmsprop',\n",
    "               loss='categorical_crossentropy',\n",
    "               metrics=['accuracy'])"
   ]
  },
  {
   "cell_type": "code",
   "execution_count": 3,
   "metadata": {},
   "outputs": [],
   "source": [
    "train_images = train_images.reshape((60000, 28 * 28)).astype('float32') / 255.0\n",
    "test_images = test_images.reshape((10000, 28 * 28)).astype('float32') / 255.0"
   ]
  },
  {
   "cell_type": "code",
   "execution_count": 4,
   "metadata": {},
   "outputs": [],
   "source": [
    "from keras.utils import to_categorical\n",
    "\n",
    "train_labels = to_categorical(train_labels)\n",
    "test_labels = to_categorical(test_labels)\n"
   ]
  },
  {
   "cell_type": "code",
   "execution_count": 5,
   "metadata": {},
   "outputs": [
    {
     "name": "stdout",
     "output_type": "stream",
     "text": [
      "Epoch 1/5\n",
      "60000/60000 [==============================] - 3s 45us/step - loss: 0.2539 - acc: 0.9270\n",
      "Epoch 2/5\n",
      "60000/60000 [==============================] - 3s 44us/step - loss: 0.1045 - acc: 0.9690\n",
      "Epoch 3/5\n",
      "60000/60000 [==============================] - 3s 51us/step - loss: 0.0689 - acc: 0.9792\n",
      "Epoch 4/5\n",
      "60000/60000 [==============================] - 3s 50us/step - loss: 0.0500 - acc: 0.9853\n",
      "Epoch 5/5\n",
      "60000/60000 [==============================] - 3s 50us/step - loss: 0.0370 - acc: 0.9888\n"
     ]
    },
    {
     "data": {
      "text/plain": [
       "<keras.callbacks.History at 0x11bccc470>"
      ]
     },
     "execution_count": 5,
     "metadata": {},
     "output_type": "execute_result"
    }
   ],
   "source": [
    "network.fit(train_images, train_labels, epochs=5, batch_size=128)"
   ]
  },
  {
   "cell_type": "code",
   "execution_count": 6,
   "metadata": {},
   "outputs": [
    {
     "name": "stdout",
     "output_type": "stream",
     "text": [
      "10000/10000 [==============================] - 0s 32us/step\n",
      "0.070548699757 0.9791\n"
     ]
    }
   ],
   "source": [
    "test_loss, test_acc = network.evaluate(test_images, test_labels)\n",
    "print(test_loss, test_acc)"
   ]
  },
  {
   "cell_type": "code",
   "execution_count": null,
   "metadata": {},
   "outputs": [],
   "source": []
  },
  {
   "cell_type": "markdown",
   "metadata": {},
   "source": [
    "## IMDB classification"
   ]
  },
  {
   "cell_type": "markdown",
   "metadata": {},
   "source": [
    "### STEP 1:\n",
    "Load raw IMDB dataset"
   ]
  },
  {
   "cell_type": "code",
   "execution_count": 23,
   "metadata": {},
   "outputs": [
    {
     "name": "stdout",
     "output_type": "stream",
     "text": [
      "Downloading data from https://s3.amazonaws.com/text-datasets/imdb.npz\n",
      "17465344/17464789 [==============================] - 1s 0us/step\n"
     ]
    }
   ],
   "source": [
    "from keras import models\n",
    "from keras import layers\n",
    "from keras.utils import to_categorical\n",
    "from keras.datasets import imdb\n",
    "\n",
    "(x_train_raw, y_train_raw), (x_test_raw, y_test_raw) = imdb.load_data(num_words=10000)\n",
    "\n",
    "# train_labels = to_categorical(train_labels)\n",
    "# test_labels = to_categorical(test_labels)"
   ]
  },
  {
   "cell_type": "markdown",
   "metadata": {},
   "source": [
    "### STEP 2:\n",
    "Preprocessing training data"
   ]
  },
  {
   "cell_type": "code",
   "execution_count": 26,
   "metadata": {},
   "outputs": [],
   "source": [
    "import numpy as np\n",
    "def vectorize_seqs(seqs, dim=10000):\n",
    "    res = np.zeros( (len(seqs), dim) )\n",
    "    for i, seq in enumerate(seqs):\n",
    "        res[i, seq] = 1\n",
    "    return res\n",
    "\n",
    "x_train = vectorize_seqs(x_train_raw)\n",
    "x_test = vectorize_seqs(x_test_raw)\n",
    "\n",
    "y_train = np.asarray(y_train_raw).astype('float32')\n",
    "y_test = np.asarray(y_test_raw).astype('float32')"
   ]
  },
  {
   "cell_type": "markdown",
   "metadata": {},
   "source": [
    "## STEP 3:\n",
    "Build neural network"
   ]
  },
  {
   "cell_type": "code",
   "execution_count": 31,
   "metadata": {},
   "outputs": [],
   "source": [
    "model = models.Sequential()\n",
    "model.add(layers.Dense(16, activation='relu', input_shape=(10000, )))\n",
    "model.add(layers.Dense(16,  activation='relu'))\n",
    "model.add(layers.Dense(16,  activation='relu'))\n",
    "model.add(layers.Dense(1, activation='sigmoid'))\n",
    "\n",
    "model.compile(optimizer='rmsprop',\n",
    "             loss='binary_crossentropy',\n",
    "             metrics=['accuracy'])\n",
    "          "
   ]
  },
  {
   "cell_type": "code",
   "execution_count": 36,
   "metadata": {},
   "outputs": [
    {
     "name": "stdout",
     "output_type": "stream",
     "text": [
      "Epoch 1/10\n",
      "25000/25000 [==============================] - 2s 94us/step - loss: 0.0355 - acc: 0.9898\n",
      "Epoch 2/10\n",
      "25000/25000 [==============================] - 2s 95us/step - loss: 0.0275 - acc: 0.9926\n",
      "Epoch 3/10\n",
      "25000/25000 [==============================] - 2s 95us/step - loss: 0.0203 - acc: 0.9943\n",
      "Epoch 4/10\n",
      "25000/25000 [==============================] - 2s 94us/step - loss: 0.0147 - acc: 0.9962\n",
      "Epoch 5/10\n",
      "25000/25000 [==============================] - 2s 94us/step - loss: 0.0109 - acc: 0.9978\n",
      "Epoch 6/10\n",
      "25000/25000 [==============================] - 2s 95us/step - loss: 0.0089 - acc: 0.9983\n",
      "Epoch 7/10\n",
      "25000/25000 [==============================] - 2s 95us/step - loss: 0.0066 - acc: 0.9987\n",
      "Epoch 8/10\n",
      "25000/25000 [==============================] - 2s 95us/step - loss: 0.0047 - acc: 0.9988\n",
      "Epoch 9/10\n",
      "25000/25000 [==============================] - 2s 95us/step - loss: 0.0037 - acc: 0.9990\n",
      "Epoch 10/10\n",
      "25000/25000 [==============================] - 2s 95us/step - loss: 0.0036 - acc: 0.9990\n"
     ]
    },
    {
     "data": {
      "text/plain": [
       "<keras.callbacks.History at 0x12d41b6d8>"
      ]
     },
     "execution_count": 36,
     "metadata": {},
     "output_type": "execute_result"
    }
   ],
   "source": [
    "model.fit(x_train, y_train, epochs=10, batch_size=256)"
   ]
  },
  {
   "cell_type": "code",
   "execution_count": 37,
   "metadata": {},
   "outputs": [
    {
     "name": "stdout",
     "output_type": "stream",
     "text": [
      "25000/25000 [==============================] - 2s 63us/step\n"
     ]
    },
    {
     "data": {
      "text/plain": [
       "[1.3151868843960761, 0.84616000000000002]"
      ]
     },
     "execution_count": 37,
     "metadata": {},
     "output_type": "execute_result"
    }
   ],
   "source": [
    "model.evaluate(x_test, y_test)"
   ]
  },
  {
   "cell_type": "code",
   "execution_count": null,
   "metadata": {},
   "outputs": [],
   "source": []
  },
  {
   "cell_type": "markdown",
   "metadata": {},
   "source": [
    "# Using tensorflow.keras instead"
   ]
  },
  {
   "cell_type": "code",
   "execution_count": 18,
   "metadata": {},
   "outputs": [],
   "source": [
    "import tensorflow as tf"
   ]
  },
  {
   "cell_type": "code",
   "execution_count": 26,
   "metadata": {},
   "outputs": [],
   "source": [
    "network = tf.keras.models.Sequential()\n",
    "network.add(tf.keras.layers.Dense(512, activation='relu', input_shape=(28*28, )))\n",
    "network.add(tf.keras.layers.Dense(10, activation='softmax'))\n",
    "\n",
    "network.compile(optimizer='rmsprop',\n",
    "               loss='categorical_crossentropy',\n",
    "               metrics=['accuracy'])"
   ]
  },
  {
   "cell_type": "code",
   "execution_count": 22,
   "metadata": {},
   "outputs": [
    {
     "name": "stdout",
     "output_type": "stream",
     "text": [
      "Epoch 1/5\n",
      "60000/60000 [==============================] - 2s - loss: 0.2616 - acc: 0.9242     \n",
      "Epoch 2/5\n",
      "60000/60000 [==============================] - 2s - loss: 0.1032 - acc: 0.9690     \n",
      "Epoch 3/5\n",
      "60000/60000 [==============================] - 2s - loss: 0.0683 - acc: 0.9795     \n",
      "Epoch 4/5\n",
      "60000/60000 [==============================] - 2s - loss: 0.0498 - acc: 0.9855     \n",
      "Epoch 5/5\n",
      "60000/60000 [==============================] - 2s - loss: 0.0369 - acc: 0.9890     \n"
     ]
    },
    {
     "data": {
      "text/plain": [
       "<tensorflow.python.keras._impl.keras.callbacks.History at 0x1a417f37f0>"
      ]
     },
     "execution_count": 22,
     "metadata": {},
     "output_type": "execute_result"
    }
   ],
   "source": [
    "network.fit(train_images, train_labels, epochs=5, batch_size=128)"
   ]
  },
  {
   "cell_type": "code",
   "execution_count": 23,
   "metadata": {},
   "outputs": [
    {
     "name": "stdout",
     "output_type": "stream",
     "text": [
      " 8736/10000 [=========================>....] - ETA: 0s"
     ]
    }
   ],
   "source": [
    "test_loss, test_acc = network.evaluate(test_images, test_labels)"
   ]
  },
  {
   "cell_type": "code",
   "execution_count": 24,
   "metadata": {},
   "outputs": [
    {
     "data": {
      "text/plain": [
       "0.98040000000000005"
      ]
     },
     "execution_count": 24,
     "metadata": {},
     "output_type": "execute_result"
    }
   ],
   "source": [
    "test_acc"
   ]
  },
  {
   "cell_type": "code",
   "execution_count": 40,
   "metadata": {},
   "outputs": [],
   "source": [
    "# (HP, ATK, DEF, GOLD, EXP)\n",
    "strLst = \"\"\"(50, 20, 1, 1, 1, \"绿头怪\")\n",
    "(70, 15, 2, 2, 2, \"红头怪\") \n",
    "(100, 20, 5, 3, 3, \"小蝙蝠\") \n",
    "(110, 25, 5, 5, 4, \"骷髅人\") \n",
    "(200, 35, 10, 5, 5, \"青头怪\") \n",
    "(150, 40, 20, 8, 6, \"骷髅士兵\") \n",
    "(125, 50, 25, 10, 7, \"初级法师\") \n",
    "(150, 65, 30, 10, 8, \"大蝙蝠\") \n",
    "(300, 75, 45, 13, 10, \"兽面人\") \n",
    "(400, 90, 50, 15, 12, \"骷髅队长\") \n",
    "(500, 115, 65, 15, 15, \"石头怪人\") \n",
    "(250, 120, 70, 20, 17, \"麻衣法师\") \n",
    "(450, 150, 90, 22, 19, \"初级卫兵\") \n",
    "(550, 160, 90, 25, 20, \"红蝙蝠\") \n",
    "(100, 200, 110, 30, 25, \"高级法师\") \n",
    "(700, 250, 125, 32, 30, \"怪王\") \n",
    "(1300, 300, 150, 40, 35, \"白衣武士\") \n",
    "(850, 350, 200, 45, 40, \"金卫士\") \n",
    "(500, 400, 260, 47, 45, \"红衣法师\") \n",
    "(900, 450, 330, 50, 50, \"兽面武士\") \n",
    "(1250, 500, 400, 55, 55, \"冥卫兵\") \n",
    "(1500, 560, 460, 60, 60, \"高级卫兵\") \n",
    "(1200, 620, 520, 65, 75, \"双手剑士\") \n",
    "(2000, 680, 590, 70, 65, \"冥战士\") \n",
    "(900, 750, 650, 77, 70, \"金队长\") \n",
    "(1500, 830, 730, 80, 70, \"灵法师\") \n",
    "(2500, 900, 850, 84, 75, \"冥队长\") \n",
    "(1200, 980, 900, 88, 75, \"灵武士\") \n",
    "(3100, 1150, 1050, 92, 80, \"影子战士\") \n",
    "(15000, 1000, 1000, 100, 100, \"红衣魔王\") \n",
    "(20000, 1333, 1333, 133, 133, \"红衣魔王\") \n",
    "(30000, 1700, 1500, 250, 220, \"冥灵魔王\")       \n",
    "(45000, 2550, 2250, 312, 275, \"冥灵魔王\") \n",
    "(3333, 1200, 1133, 112, 100, \"冥队长\") \n",
    "(1800, 1306, 1200, 117, 100, \"灵武士\") \n",
    "(2400, 980, 900, 88, 75, \"灵武士\") \n",
    "(2000, 1106, 730, 106, 93, \"灵法师\") \n",
    "(1500, 830, 730, 132, 116, \"灵法师\") \n",
    "(60000, 3400, 3000, 390, 343, \"冥灵魔王\") \n",
    "(99999, 5000, 4000, 0, 0, \"血影\") \n",
    "(99999, 9999, 5000, 0, 0, \"魔龙\")\"\"\""
   ]
  },
  {
   "cell_type": "code",
   "execution_count": 89,
   "metadata": {},
   "outputs": [],
   "source": [
    "enemyDict = {}\n",
    "for line in strLst.split('\\n'):\n",
    "    lineLst = line.strip()[1:-1].split(\",\")\n",
    "    enemyDict[lineLst[5].strip()[1:-1]] = {\n",
    "        \"HP\":int(lineLst[0]),\n",
    "        \"ATK\":int(lineLst[1]),\n",
    "        \"DEF\":int(lineLst[2]),\n",
    "        \"GOLD\":int(lineLst[3]),\n",
    "        \"EXP\":int(lineLst[4])\n",
    "    }"
   ]
  },
  {
   "cell_type": "code",
   "execution_count": 106,
   "metadata": {},
   "outputs": [
    {
     "name": "stdout",
     "output_type": "stream",
     "text": [
      "99999 9999 5000\n",
      "999890001\n"
     ]
    }
   ],
   "source": [
    "import math\n",
    "def dH(a1, d1, *enemyInfo):\n",
    "    if len(enemyInfo) == 1 and enemyInfo[0] in enemyDict:\n",
    "        dct = enemyDict[enemyInfo[0]]\n",
    "        h2, a2, d2 = dct[\"HP\"], dct[\"ATK\"], dct[\"DEF\"]\n",
    "    elif len(enemyInfo) == 3:\n",
    "        h2, a2, d2 = enemyInfo\n",
    "    else:\n",
    "        print(\"Enemy info incorrect!\")\n",
    "        return None\n",
    "    print(h2, a2, d2)\n",
    "    return max(math.floor(h2/(a1-d2)) * (a2-d1), -1)\n",
    "\n",
    "print(dH(5001, 0, \"魔龙\"))"
   ]
  },
  {
   "cell_type": "code",
   "execution_count": 88,
   "metadata": {},
   "outputs": [
    {
     "data": {
      "text/plain": [
       "True"
      ]
     },
     "execution_count": 88,
     "metadata": {},
     "output_type": "execute_result"
    }
   ],
   "source": [
    "enemyInfo = [\"魔龙\"]\n",
    "len(enemyInfo) == 1 and enemyInfo[0] in enemyDict"
   ]
  },
  {
   "cell_type": "code",
   "execution_count": 99,
   "metadata": {},
   "outputs": [
    {
     "data": {
      "text/plain": [
       "0.75"
      ]
     },
     "execution_count": 99,
     "metadata": {},
     "output_type": "execute_result"
    }
   ],
   "source": [
    "3/4"
   ]
  },
  {
   "cell_type": "code",
   "execution_count": null,
   "metadata": {},
   "outputs": [],
   "source": []
  }
 ],
 "metadata": {
  "kernelspec": {
   "display_name": "Python 3",
   "language": "python",
   "name": "python3"
  },
  "language_info": {
   "codemirror_mode": {
    "name": "ipython",
    "version": 3
   },
   "file_extension": ".py",
   "mimetype": "text/x-python",
   "name": "python",
   "nbconvert_exporter": "python",
   "pygments_lexer": "ipython3",
   "version": "3.6.4"
  }
 },
 "nbformat": 4,
 "nbformat_minor": 2
}
